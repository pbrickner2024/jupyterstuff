{
 "cells": [
  {
   "cell_type": "code",
   "execution_count": 1,
   "id": "19db5f89-2553-483b-b5ae-194f3e90df4a",
   "metadata": {},
   "outputs": [
    {
     "ename": "ModuleNotFoundError",
     "evalue": "No module named 'twilio'",
     "output_type": "error",
     "traceback": [
      "\u001b[1;31m---------------------------------------------------------------------------\u001b[0m",
      "\u001b[1;31mModuleNotFoundError\u001b[0m                       Traceback (most recent call last)",
      "Cell \u001b[1;32mIn[1], line 3\u001b[0m\n\u001b[0;32m      1\u001b[0m \u001b[38;5;28;01mimport\u001b[39;00m \u001b[38;5;21;01mrequests\u001b[39;00m\n\u001b[0;32m      2\u001b[0m \u001b[38;5;28;01mimport\u001b[39;00m \u001b[38;5;21;01mos\u001b[39;00m\n\u001b[1;32m----> 3\u001b[0m \u001b[38;5;28;01mfrom\u001b[39;00m \u001b[38;5;21;01mtwilio\u001b[39;00m\u001b[38;5;21;01m.\u001b[39;00m\u001b[38;5;21;01mrest\u001b[39;00m \u001b[38;5;28;01mimport\u001b[39;00m Client\n\u001b[0;32m      6\u001b[0m OWM_Endpoint \u001b[38;5;241m=\u001b[39m \u001b[38;5;124m\"\u001b[39m\u001b[38;5;124mhttps://api.openweathermap.org/data/2.5/onecall\u001b[39m\u001b[38;5;124m\"\u001b[39m\n\u001b[0;32m      7\u001b[0m api_key \u001b[38;5;241m=\u001b[39m os\u001b[38;5;241m.\u001b[39menviron\u001b[38;5;241m.\u001b[39mget(\u001b[38;5;124m\"\u001b[39m\u001b[38;5;124mOWM_API_KEY\u001b[39m\u001b[38;5;124m\"\u001b[39m)\n",
      "\u001b[1;31mModuleNotFoundError\u001b[0m: No module named 'twilio'"
     ]
    }
   ],
   "source": [
    "import requests\n",
    "import os\n",
    "from twilio.rest import Client\n",
    "\n",
    "\n",
    "OWM_Endpoint = \"https://api.openweathermap.org/data/2.5/onecall\"\n",
    "api_key = os.environ.get(\"OWM_API_KEY\")\n",
    "account_sid = \"ACfb6eab6810ee55e165276fe3a40f999f\"\n",
    "auth_token = os.environ.get(\"AUTH_TOKEN\")\n",
    "\n",
    "weather_params = {\n",
    "    \"lat\": 39.978390,\n",
    "    \"lon\": -86.127068,\n",
    "    \"appid\": api_key,\n",
    "    \"exclude\": \"current,minutely,daily\"\n",
    "}\n",
    "\n",
    "response = requests.get(OWM_Endpoint, params=weather_params)\n",
    "response.raise_for_status()\n",
    "data = response.json()\n",
    "hours12 = data[\"hourly\"][:12]\n",
    "\n",
    "will_rain = False\n",
    "\n",
    "for hour in hours12:\n",
    "    condition_code = hour[\"weather\"][0][\"id\"]\n",
    "    if int(condition_code) < 700:\n",
    "        will_rain = True\n",
    "\n",
    "if will_rain:\n",
    "\n",
    "    client = Client(account_sid, auth_token)\n",
    "    message = client.messages.create(body=\"It's going to rain today. Remember to bring an ☔\", from_=\"+18057931317\", to=\"+15135181406\")\n",
    "\n",
    "    print(message.status)\n",
    "else:\n",
    "    client = Client(account_sid, auth_token)\n",
    "    message = client.messages.create(body=\"It's not going to rain today 🌞\", from_=\"+18057931317\", to=\"+15135181406\")\n",
    "\n",
    "    print(message.status)"
   ]
  },
  {
   "cell_type": "code",
   "execution_count": null,
   "id": "6c6c47f9-4681-4645-b650-c7c1cb53cd69",
   "metadata": {},
   "outputs": [],
   "source": []
  }
 ],
 "metadata": {
  "kernelspec": {
   "display_name": "Python 3 (ipykernel)",
   "language": "python",
   "name": "python3"
  },
  "language_info": {
   "codemirror_mode": {
    "name": "ipython",
    "version": 3
   },
   "file_extension": ".py",
   "mimetype": "text/x-python",
   "name": "python",
   "nbconvert_exporter": "python",
   "pygments_lexer": "ipython3",
   "version": "3.12.7"
  }
 },
 "nbformat": 4,
 "nbformat_minor": 5
}
